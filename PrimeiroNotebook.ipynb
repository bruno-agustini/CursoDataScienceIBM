{
 "cells": [
  {
   "cell_type": "markdown",
   "id": "ce0f245f-11de-4589-bff9-d48427f55b46",
   "metadata": {},
   "source": [
    "# Data Science Tools and Ecosystem"
   ]
  },
  {
   "cell_type": "markdown",
   "id": "c2f3d39d-6ff5-427c-ad8a-2628832e5969",
   "metadata": {},
   "source": [
    "In this notebook, Data Science Tools and Ecosystem are summarized."
   ]
  },
  {
   "cell_type": "markdown",
   "id": "85a16887-aa51-4e6c-befd-c7cbcca03030",
   "metadata": {},
   "source": [
    "Some of the popular languages that Data Scientists use are: \n",
    "1. Python\n",
    "2. R\n",
    "3. SQL\n",
    "4. Julia\n",
    "5. Scala\n",
    "6. Java"
   ]
  },
  {
   "cell_type": "markdown",
   "id": "f119e627-6150-4e98-9d8f-54165d87c5cc",
   "metadata": {},
   "source": [
    "Some of the commonly used libraries used by Data Scientists include: \n",
    "1. Pandas\n",
    "2. NumPy\n",
    "3. Scipy"
   ]
  },
  {
   "cell_type": "markdown",
   "id": "49f30f9f-1449-4395-abf8-ded00d85004b",
   "metadata": {},
   "source": [
    "| Data Science Tools |\n",
    "| ------------------ |\n",
    "| Jupyter Notebook   |\n",
    "| VSCode             |\n",
    "| RStudio            |\n",
    "| Apache Hadoop      |"
   ]
  },
  {
   "cell_type": "markdown",
   "id": "621fc537-e205-4fc3-929e-1805fc569ad3",
   "metadata": {},
   "source": [
    "**Objectives:**\n",
    "\n",
    "* Popular Languages in Data Science\n",
    "* Popular Libraries in Data Science\n",
    "* Some examples of arithmetic expressions"
   ]
  },
  {
   "cell_type": "markdown",
   "id": "d483267f-3b98-4a56-a18c-30e15e55d16d",
   "metadata": {},
   "source": [
    "### Below are a few examples of evaluating arithmetic expressions in Python\n",
    "\n",
    "Soma = 1 + 1 = 2\n",
    "\n",
    "Subtração = 10 - 5 = 5\n",
    "\n",
    "Multiplicação = 2 * 5 = 10\n",
    "\n",
    "Divisão = 5 / 2 = 2.5\n",
    "\n"
   ]
  },
  {
   "cell_type": "code",
   "execution_count": 107,
   "id": "a0d508e4-fed1-41ec-96b6-60adb9d9a8e0",
   "metadata": {},
   "outputs": [
    {
     "name": "stdout",
     "output_type": "stream",
     "text": [
      "17\n"
     ]
    }
   ],
   "source": [
    "value = (3*4)+5\n",
    "#  This a simple arithmetic expression to mutiply then add integers\n",
    "print(value)"
   ]
  },
  {
   "cell_type": "code",
   "execution_count": 108,
   "id": "6f40fe65-624e-47d7-b635-e0b3f9292135",
   "metadata": {},
   "outputs": [
    {
     "name": "stdout",
     "output_type": "stream",
     "text": [
      "3.3333333333333335\n"
     ]
    }
   ],
   "source": [
    "minutes = 200 \n",
    "hours = minutes / 60\n",
    "# his will convert 200 minutes to hours by diving by 60\n",
    "print(hours)"
   ]
  }
 ],
 "metadata": {
  "kernelspec": {
   "display_name": "Python 3 (ipykernel)",
   "language": "python",
   "name": "python3"
  },
  "language_info": {
   "codemirror_mode": {
    "name": "ipython",
    "version": 3
   },
   "file_extension": ".py",
   "mimetype": "text/x-python",
   "name": "python",
   "nbconvert_exporter": "python",
   "pygments_lexer": "ipython3",
   "version": "3.12.4"
  }
 },
 "nbformat": 4,
 "nbformat_minor": 5
}
